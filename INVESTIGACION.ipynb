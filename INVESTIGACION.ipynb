{
  "cells": [
    {
      "cell_type": "markdown",
      "source": [
        "##Hisotrigrama:\n",
        "Es una forma visual de como se distribuyen los valores, se crea a travez de barras verticales.\n",
        "##¿Cómo se crea?\n",
        "*   Recolectar datos: Tiene que haber un conjunto de datos numericos.\n",
        "*   Determinar intervalos: Se divide el rango de los datos en intervalos como de 0-10, 10-20, etc.\n",
        "*   Contar la frecuencia: Luego se cuenta cuantos datos caen en cada intervalo.\n",
        "*   Dibujar las barras: Las barras o cada barra representa la frecuencia de un intervalo.\n",
        "##¿Cómo es?\n",
        "-Practicamente son barras verticales con un eje de x y eje de y, pueden tener diferentes anchos dependiendo de como se definan los intervalos.\n",
        "##¿Para qué sirve?\n",
        "-Sirve para la visualizacion de la distribucion de datos, ya que ayudan a ver como se distribuyen los datos en un conjunto grande.\n",
        "##¿En qué contexto se utiliza?\n",
        "Se utiliza cuando quieres sacara una estadistica o entender una distribucion de datos de manera visual, se utiliza mucho en estadistica para analizar la distribucion de datos, marketing, ciencias, etc.\n",
        "\n",
        "---\n",
        "\n",
        "\n"
      ],
      "metadata": {
        "id": "oeccykjTn-4e"
      }
    },
    {
      "cell_type": "markdown",
      "source": [
        "#Diagrama de tallo y hoja:\n",
        "Es una forma de organizar y mostrar datos numericos de manera mas detallada.\n",
        "##¿Cómo se crea?\n",
        "*   Ordenar los datos: Los datos se organizan de menor a mayor.\n",
        "*   Dividir los numeros: Cada numero se divide en dos partes: el tallo y la hoja por ejemplo si hay un numero 56, el tallo seria 5 y la hoja 6.\n",
        "*   Agrupar los tallos:Los tallos se colocan en una columna y las hojas se  aguroan a la derecha de cada tallo que le corresponda.\n",
        "*   Organizar las hojas:Las hojas dentro de cada tallo se ordena de manera ascendente.\n",
        "##¿Cómo es?\n",
        "El tallo representa los numeros mas grande dichos anteriormente generalmente los valores de las unidades mas significativas y la hoja muestra los valores mas pequeños.\n",
        "##¿Para qué sirve?\n",
        "Sirve para tener menos perdida de informacion, ya que al ser mas preciso, muestra los datos exactos, lo que puede ser util para un analisis mas detallado.\n",
        "##¿En qué contexto se utiliza?\n",
        "Se utiliza mucho cuando los datos son muy pequeños, ya que si hay un conjunto de datos grande, se puede volver un poco mas dificil en leer y tambien se usa cuando se quiere saber la exactitud de los datos.\n",
        "\n",
        "---\n",
        "\n"
      ],
      "metadata": {
        "id": "ULvZFIXKq4gu"
      }
    },
    {
      "cell_type": "markdown",
      "source": [
        "#Diagrama de caja\n",
        "El diagrama de caja es como un resumen grafico de la distribucion de los datos.\n",
        "##¿Cómo se crea?\n",
        "\n",
        "\n",
        "*   Organizar tus datos: primero se ordena de menor a mayor\n",
        "*   Calcula la mediana, el cuartir inferior y superior:\n",
        "    \n",
        "    -mediana (Q2): Es el valor central de los datos o el promedio de los valores centrales.\n",
        "    \n",
        "    -Primer cuartil (Q1): Es la mediana de la mitad inferior de los datos. Es el valor que divide los primeros 25% de los datos.\n",
        "\n",
        "    -Tercer cuartil (Q3): Es la mediana de la midad superior de los datos. Divide los datos en el 75% infeior y el 25% superior.\n",
        "*   Dibuja la caja: La caja va de Q1 a Q3, dentro de la caja, se dibuja una linea en el punto de la mediana (Q2).\n",
        "\n",
        "*   Dibuja los \"bigotes\": Los bigotes se extienden desde los extremos de la caja hasta el valor mas bajo y el valor mas alto.\n",
        "\n",
        "\n",
        "##¿Cómo es?\n",
        "Practicamente son como una cajita lo cual tiene una forma de bigote por sus extremos y si hay valores que se encuentran fuera de los bigotes, estos se marcan con puntos.\n",
        "\n",
        "##¿Para qué sirven?\n",
        "Este es muy util para ver la distribucion de los datos ya que puedes ver si estan distribuidos de manera simetrica o si hay sesgo, etc y tambien identificar valores apticos lo cual es cuando los puntos fuera de los bigotes muestran datos inusualos o atipicos.\n",
        "\n",
        "##¿En qué contexto se utiliza?\n",
        "Es practico cuando tienes muchos datos y quieres verlos rapidamente como estan distribuidos o si hay valores atipicos que podrian estar afectando los resultados.\n"
      ],
      "metadata": {
        "id": "tACV3z2ftnH5"
      }
    }
  ],
  "metadata": {
    "colab": {
      "toc_visible": true,
      "provenance": []
    },
    "kernelspec": {
      "display_name": "Python 3",
      "name": "python3"
    }
  },
  "nbformat": 4,
  "nbformat_minor": 0
}